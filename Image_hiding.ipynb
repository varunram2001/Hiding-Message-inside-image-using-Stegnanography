{
  "nbformat": 4,
  "nbformat_minor": 0,
  "metadata": {
    "colab": {
      "provenance": []
    },
    "kernelspec": {
      "name": "python3",
      "display_name": "Python 3"
    },
    "language_info": {
      "name": "python"
    }
  },
  "cells": [
    {
      "cell_type": "code",
      "execution_count": 1,
      "metadata": {
        "id": "RU2KFBp9__X1"
      },
      "outputs": [],
      "source": [
        "from PIL import Image"
      ]
    },
    {
      "cell_type": "code",
      "source": [
        "def hide_message(image_path, message):\n",
        "    # open the image file\n",
        "    img = Image.open(image_path)\n",
        "\n",
        "    # convert the message to binary format\n",
        "    binary_message = ''.join(format(ord(i), '08b') for i in message)\n",
        "\n",
        "    # get the size of the image\n",
        "    width, height = img.size\n",
        "\n",
        "    # calculate the maximum number of bits that can be hidden in the image\n",
        "    max_bits = width * height * 3 // 8\n",
        "\n",
        "    # check if the message is too long to be hidden in the image\n",
        "    if len(binary_message) > max_bits:\n",
        "        raise ValueError(\"Message is too long to be hidden in the image\")\n",
        "\n",
        "    # add a stop bit to the binary message\n",
        "    binary_message += '0' * (max_bits - len(binary_message) - 1) + '1'\n",
        "\n",
        "    # create a new image object to hold the modified image\n",
        "    steg_img = Image.new(img.mode, img.size)\n",
        "\n",
        "    # iterate over each pixel in the image\n",
        "    for x in range(width):\n",
        "        for y in range(height):\n",
        "            # get the RGB values for the current pixel\n",
        "            r, g, b = img.getpixel((x, y))\n",
        "\n",
        "            # get the next bit from the binary message\n",
        "            bit = int(binary_message[0])\n",
        "\n",
        "            # hide the bit in the least significant bit of the red, green, or blue value\n",
        "            if bit == 0:\n",
        "                r = r & ~1\n",
        "            else:\n",
        "                r = r | 1\n",
        "\n",
        "            # remove the first bit from the binary message\n",
        "            binary_message = binary_message[1:]\n",
        "\n",
        "            # set the pixel in the steganographic image to the modified RGB values\n",
        "            steg_img.putpixel((x, y), (r, g, b))\n",
        "\n",
        "    # save the steganographic image to a new file\n",
        "    steg_img.save(\"steg_\" + image_path)\n",
        "    print(\"Message hidden in the image\")\n",
        "\n"
      ],
      "metadata": {
        "id": "F5eCVDFkAKXr"
      },
      "execution_count": 2,
      "outputs": []
    },
    {
      "cell_type": "code",
      "source": [
        "def extract_message(image_path):\n",
        "    # open the steganographic image file\n",
        "    steg_img = Image.open('/content/Sample.jpeg')\n",
        "\n",
        "    # get the size of the image\n",
        "    width, height = steg_img.size\n",
        "\n",
        "    # create a string to hold the extracted binary message\n",
        "    binary_message = ''\n",
        "\n",
        "    # iterate over each pixel in the image\n",
        "    for x in range(width):\n",
        "        for y in range(height):\n",
        "            # get the RGB values for the current pixel\n",
        "            r, g, b = steg_img.getpixel((x, y))\n",
        "\n",
        "            # extract the least significant bit from the red, green, or blue value\n",
        "            bit = r & 1\n",
        "\n",
        "            # add the bit to the binary message\n",
        "            binary_message += str(bit)\n",
        "\n",
        "            # check if the binary message ends with the stop bit\n",
        "            if binary_message[-1] == '1':\n",
        "                # convert the binary message to a string and return it\n",
        "                message = ''\n",
        "                for i in range(0, len(binary_message) - 1, 8):\n",
        "                    message += chr(int(binary_message[i:i+8], 2))\n",
        "                return message\n",
        "\n",
        "    raise ValueError(\"No message found in the image\")\n"
      ],
      "metadata": {
        "id": "seCFaLpdAOr7"
      },
      "execution_count": 3,
      "outputs": []
    },
    {
      "cell_type": "code",
      "source": [
        "# Example usage\n",
        "image_path = \"/content/Sample.jpeg\"\n",
        "message = \"This is a secret message!\"\n",
        "#hide_message(image_path, message)\n",
        "extracted_message = extract_message(\"steg_\" + image_path)\n",
        "print(\"Extracted message:\", extracted_message)"
      ],
      "metadata": {
        "colab": {
          "base_uri": "https://localhost:8080/"
        },
        "id": "Zjp-eG7CASVK",
        "outputId": "1fc1f50d-62cf-43ca-b774-2d180603485d"
      },
      "execution_count": 5,
      "outputs": [
        {
          "output_type": "stream",
          "name": "stdout",
          "text": [
            "Extracted message: \n"
          ]
        }
      ]
    }
  ]
}